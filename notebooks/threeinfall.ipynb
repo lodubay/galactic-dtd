{
 "cells": [
  {
   "cell_type": "code",
   "execution_count": 1,
   "id": "39387c10-59a4-4c36-9ad3-bde5c6397662",
   "metadata": {},
   "outputs": [],
   "source": [
    "import math as m\n",
    "import os\n",
    "from pathlib import Path\n",
    "import numpy as np\n",
    "from numpy.polynomial.polynomial import Polynomial\n",
    "import matplotlib.pyplot as plt\n",
    "import vice"
   ]
  },
  {
   "cell_type": "code",
   "execution_count": 2,
   "id": "f2e3dd1a-9075-4ea2-a6bb-ff693904db9a",
   "metadata": {},
   "outputs": [],
   "source": [
    "OUTPUT_DIR = Path('../src/data/onezone/threeinfall')\n",
    "END_TIME = 13.2\n",
    "DT = 0.01\n",
    "SIMTIME = np.arange(0, END_TIME+DT, DT)"
   ]
  },
  {
   "cell_type": "code",
   "execution_count": 3,
   "id": "730ac6c1-ace0-4bd3-9c51-11bde9087c04",
   "metadata": {},
   "outputs": [],
   "source": [
    "from vice.yields.presets import JW20\n",
    "vice.yields.sneia.settings['fe'] *= 0.4\n",
    "vice.yields.ccsne.settings['fe'] *= 0.3\n",
    "vice.yields.ccsne.settings['o'] *= 0.3"
   ]
  },
  {
   "cell_type": "code",
   "execution_count": null,
   "id": "2e45a12a-25a0-4608-98eb-b6c92b4bb39c",
   "metadata": {},
   "outputs": [],
   "source": [
    "class exponential:\n",
    "    def __init__(self, timescale=1, coeff=1):\n",
    "        self.timescale = timescale\n",
    "        self.coeff = coeff\n",
    "        \n",
    "    def __call__(self, time):\n",
    "        return self.coeff / self.timescale * m.exp(-time / self.timescale)\n",
    "\n",
    "class threeinfall:\n",
    "    def __init__(self, radius, first_timescale=0.103, second_timescale=0.411, \n",
    "                 third_timescale=0.15, second_onset=4.085, third_onset=11,\n",
    "                 thin_to_thick=3.472, thin_disk_ratio=2.33):\n",
    "        self.second_onset = second_onset\n",
    "        self.third_onset = third_onset\n",
    "        self.first = exponential(\n",
    "            timescale = first_timescale,\n",
    "            coeff = 1 / (1 - m.exp(-END_TIME / first_timescale))\n",
    "        )\n",
    "        self.second = exponential(\n",
    "            timescale = second_timescale,\n",
    "            coeff = thin_to_thick / (1 - m.exp(\n",
    "                -(self.third_onset - self.second_onset) / second_timescale\n",
    "            ))\n",
    "        )\n",
    "        self.third = exponential(\n",
    "            timescale = third_timescale,\n",
    "            coeff = thin_to_thick / (1 - m.exp(\n",
    "                -(END_TIME - self.third_onset) / third_timescale\n",
    "            ))\n",
    "        )\n",
    "        \n",
    "    def __call__(self, time):\n",
    "        ifr = self.first(time)\n",
    "        if time >= self.second_onset:\n",
    "            ifr += self.second(time - self.second_onset)\n",
    "        if time >= self.third_onset:\n",
    "            ifr += self.third(time - self.third_onset)\n",
    "        return ifr"
   ]
  }
 ],
 "metadata": {
  "kernelspec": {
   "display_name": "Python 3 (ipykernel)",
   "language": "python",
   "name": "python3"
  },
  "language_info": {
   "codemirror_mode": {
    "name": "ipython",
    "version": 3
   },
   "file_extension": ".py",
   "mimetype": "text/x-python",
   "name": "python",
   "nbconvert_exporter": "python",
   "pygments_lexer": "ipython3",
   "version": "3.9.12"
  }
 },
 "nbformat": 4,
 "nbformat_minor": 5
}
