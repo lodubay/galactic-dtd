{
 "cells": [
  {
   "cell_type": "markdown",
   "id": "e99f0302-9d31-4b0a-b17c-2f29d68ecf54",
   "metadata": {},
   "source": [
    "# Testing a 2D KL divergence"
   ]
  },
  {
   "cell_type": "markdown",
   "id": "be81f112-10e5-498c-9e59-966d7daca6a0",
   "metadata": {},
   "source": [
    "From [atabakd on GitHub](https://gist.github.com/atabakd/ed0f7581f8510c8587bc2f41a094b518)"
   ]
  },
  {
   "cell_type": "code",
   "execution_count": 1,
   "id": "38113bd3-65a2-4452-b545-ee678bf4ec90",
   "metadata": {},
   "outputs": [],
   "source": [
    "import numpy as np\n",
    "import pandas as pd\n",
    "import matplotlib.pyplot as plt\n",
    "from scipy.spatial import cKDTree as KDTree"
   ]
  },
  {
   "cell_type": "code",
   "execution_count": 212,
   "id": "01520027-4fe2-4a64-9b26-585812c94949",
   "metadata": {},
   "outputs": [],
   "source": [
    "# https://mail.python.org/pipermail/scipy-user/2011-May/029521.html\n",
    "\n",
    "def KLdivergence(x, y):\n",
    "    \"\"\"Compute the Kullback-Leibler divergence between two multivariate samples.\n",
    "    Parameters\n",
    "    ----------\n",
    "    x : 2D array (n,d)\n",
    "    Samples from distribution P, which typically represents the true\n",
    "    distribution.\n",
    "    y : 2D array (m,d)\n",
    "    Samples from distribution Q, which typically represents the approximate\n",
    "    distribution.\n",
    "    Returns\n",
    "    -------\n",
    "    out : float\n",
    "    The estimated Kullback-Leibler divergence D(P||Q).\n",
    "    References\n",
    "    ----------\n",
    "    Pérez-Cruz, F. Kullback-Leibler divergence estimation of\n",
    "    continuous distributions IEEE International Symposium on Information\n",
    "    Theory, 2008.\n",
    "    \"\"\"\n",
    "\n",
    "    # Check the dimensions are consistent\n",
    "    x = np.atleast_2d(x)\n",
    "    y = np.atleast_2d(y)\n",
    "\n",
    "    n,d = x.shape\n",
    "    m,dy = y.shape\n",
    "\n",
    "    assert(d == dy)\n",
    "\n",
    "\n",
    "    # Build a KD tree representation of the samples and find the nearest neighbour\n",
    "    # of each point in x.\n",
    "    xtree = KDTree(x)\n",
    "    ytree = KDTree(y)\n",
    "\n",
    "    # Get the first two nearest neighbours for x, since the closest one is the\n",
    "    # sample itself.\n",
    "    r = xtree.query(x, k=2, eps=.01, p=2)[0][:,1]\n",
    "    s = ytree.query(x, k=1, eps=.01, p=2)[0]\n",
    "    \n",
    "    # print(r)\n",
    "    # print(s)\n",
    "    # Replace zeros with slightly non-zero value to avoid division issue\n",
    "    # s[s==0] = 1e-10\n",
    "    # logsr = np.log(s/r)\n",
    "    # logsr[(logsr==-np.inf) | (logsr==np.inf)] = 0\n",
    "    # print(logsr)\n",
    "\n",
    "    return np.log(s/r).sum() * d / n + np.log(m / (n - 1.))\n",
    "    # return logsr.sum() * d / n + np.log(m / (n - 1.))"
   ]
  },
  {
   "cell_type": "markdown",
   "id": "f7918cd0-3a14-46dd-8380-a0c70ab9e9ef",
   "metadata": {},
   "source": [
    "## Test with mock data"
   ]
  },
  {
   "cell_type": "code",
   "execution_count": 239,
   "id": "22841846-cce2-422d-96ac-74c637330ba1",
   "metadata": {},
   "outputs": [],
   "source": [
    "rng = np.random.default_rng()\n",
    "datax = rng.normal(loc=0, scale=1, size=100000)\n",
    "datay = rng.normal(loc=0, scale=1, size=100000)\n",
    "modelx = rng.normal(loc=0, scale=1.5, size=90000)\n",
    "modely = rng.normal(loc=2, scale=1, size=90000)\n",
    "Psamples = np.array([datax, datay]).T\n",
    "Qsamples = np.array([modelx, modely]).T"
   ]
  },
  {
   "cell_type": "code",
   "execution_count": 240,
   "id": "501c7e19-64f5-4140-9cec-218e2c0f82ce",
   "metadata": {},
   "outputs": [
    {
     "data": {
      "text/plain": [
       "2.0932597166675233"
      ]
     },
     "execution_count": 240,
     "metadata": {},
     "output_type": "execute_result"
    }
   ],
   "source": [
    "KLdivergence(Psamples, Qsamples)"
   ]
  },
  {
   "cell_type": "code",
   "execution_count": 188,
   "id": "8a689017-184e-4963-8491-ca6215307bca",
   "metadata": {},
   "outputs": [
    {
     "name": "stdout",
     "output_type": "stream",
     "text": [
      "[0. 0. 0. ... 0. 0. 0.]\n"
     ]
    },
    {
     "name": "stderr",
     "output_type": "stream",
     "text": [
      "/tmp/ipykernel_129/3137234301.py:46: RuntimeWarning: divide by zero encountered in log\n",
      "  logsr = np.log(s/r)\n"
     ]
    },
    {
     "data": {
      "text/plain": [
       "1.000005000029529e-05"
      ]
     },
     "execution_count": 188,
     "metadata": {},
     "output_type": "execute_result"
    }
   ],
   "source": [
    "KLdivergence(Psamples, Psamples)"
   ]
  },
  {
   "cell_type": "code",
   "execution_count": 192,
   "id": "7890be01-ee06-47fd-b0f8-5b7ae770d67d",
   "metadata": {},
   "outputs": [
    {
     "name": "stdout",
     "output_type": "stream",
     "text": [
      "[2.82842712 2.82842712]\n",
      "[0.         0.14142136]\n",
      "[ 0.         -2.99573227]\n"
     ]
    },
    {
     "name": "stderr",
     "output_type": "stream",
     "text": [
      "/tmp/ipykernel_129/409719113.py:48: RuntimeWarning: divide by zero encountered in log\n",
      "  logsr = np.log(s/r)\n"
     ]
    },
    {
     "data": {
      "text/plain": [
       "-2.3025850929940472"
      ]
     },
     "execution_count": 192,
     "metadata": {},
     "output_type": "execute_result"
    }
   ],
   "source": [
    "Ptest = np.array([[1, 2], [3, 4]])\n",
    "Qtest = np.array([[1, 2], [3.1, 4.1]])\n",
    "KLdivergence(Ptest, Qtest)"
   ]
  },
  {
   "cell_type": "code",
   "execution_count": 106,
   "id": "a984c40d-c588-443f-9e1c-57f07fdf69a6",
   "metadata": {},
   "outputs": [
    {
     "data": {
      "text/plain": [
       "-4.610182727811646"
      ]
     },
     "execution_count": 106,
     "metadata": {},
     "output_type": "execute_result"
    }
   ],
   "source": [
    "Ptest = np.array([[1, 2], [3, 4]])\n",
    "Qtest = np.array([[18, 20], [1.01, 2.01]])\n",
    "KLdivergence(Ptest, Qtest)"
   ]
  },
  {
   "cell_type": "markdown",
   "id": "cae4dedd-fd1e-4816-97c1-47132edce8e9",
   "metadata": {},
   "source": [
    "## Test with APOGEE and VICE"
   ]
  },
  {
   "cell_type": "code",
   "execution_count": 7,
   "id": "05c024fc-6535-4bd0-8afa-cc1fa52e50f5",
   "metadata": {},
   "outputs": [],
   "source": [
    "import sys\n",
    "import os\n",
    "sys.path.append(os.path.abspath('../src/scripts'))\n",
    "from utils import multioutput_to_pandas, filter_multioutput_stars, apogee_region, sample_dataframe"
   ]
  },
  {
   "cell_type": "code",
   "execution_count": 216,
   "id": "4fc6735c-adf7-45c7-81de-6b80f331d415",
   "metadata": {},
   "outputs": [],
   "source": [
    "apogee_data = pd.read_csv('../src/data/APOGEE/sample.csv')\n",
    "vice_stars  = multioutput_to_pandas('diffusion/conroy22/powerlaw_slope14', data_dir='../src/data/migration')"
   ]
  },
  {
   "cell_type": "code",
   "execution_count": 228,
   "id": "d8493c77-2101-42c7-a190-fde48404c8bf",
   "metadata": {},
   "outputs": [],
   "source": [
    "galr_lim = (11, 13)\n",
    "absz_lim = (1, 2)\n",
    "apogee_subset = apogee_region(apogee_data, galr_lim, absz_lim)\n",
    "apogee_subset.dropna(subset=['FE_H', 'O_FE'], inplace=True)\n",
    "vice_subset = filter_multioutput_stars(vice_stars, galr_lim, absz_lim)"
   ]
  },
  {
   "cell_type": "code",
   "execution_count": 233,
   "id": "d5bfa079-a549-4c8a-ba12-d7878b5b58ca",
   "metadata": {},
   "outputs": [],
   "source": [
    "apogee_sample = sample_dataframe(apogee_subset, 2000)\n",
    "sample_weights = vice_subset['mass'] / vice_subset['mass'].sum()\n",
    "vice_sample = sample_dataframe(vice_subset, 1000, weights=sample_weights)"
   ]
  },
  {
   "cell_type": "code",
   "execution_count": 234,
   "id": "2814a0b5-0f34-409c-8cd3-5ce1d605c4a0",
   "metadata": {},
   "outputs": [
    {
     "data": {
      "image/png": "[encoded data removed]",
      "text/plain": [
       "<Figure size 560x560 with 1 Axes>"
      ]
     },
     "metadata": {},
     "output_type": "display_data"
    }
   ],
   "source": [
    "fig, ax = plt.subplots(figsize=(4, 4), dpi=140)\n",
    "ax.scatter(apogee_sample['FE_H'], apogee_sample['O_FE'], c='k', alpha=0.5, s=0.5)\n",
    "ax.scatter(vice_sample['[fe/h]'], vice_sample['[o/fe]'], c='b', alpha=0.5, s=0.5)\n",
    "ax.set_xlabel('[Fe/H]')\n",
    "ax.set_ylabel('[O/Fe]')\n",
    "plt.show()"
   ]
  },
  {
   "cell_type": "code",
   "execution_count": 221,
   "id": "2b58fa84-3ab5-427d-845c-ff527f4d8cb5",
   "metadata": {},
   "outputs": [
    {
     "data": {
      "text/plain": [
       "6.213300557050426"
      ]
     },
     "execution_count": 221,
     "metadata": {},
     "output_type": "execute_result"
    }
   ],
   "source": [
    "Psamples = apogee_subset[['FE_H', 'O_FE']]\n",
    "Qsamples = vice_subset[['[fe/h]', '[o/fe]']]\n",
    "\n",
    "KLdivergence(Psamples, Qsamples)"
   ]
  },
  {
   "cell_type": "code",
   "execution_count": 211,
   "id": "482addbe-6009-480f-862f-dc6741d33148",
   "metadata": {},
   "outputs": [
    {
     "name": "stdout",
     "output_type": "stream",
     "text": [
      "[0.00252147 0.00083904 0.00124452 ... 0.00200562 0.00093451 0.00287741]\n",
      "[0.         0.         0.00054731 ... 0.00131604 0.00243709 0.        ]\n",
      "[ 0.          0.         -0.82149173 ... -0.42132505  0.95853995\n",
      "  0.        ]\n"
     ]
    },
    {
     "name": "stderr",
     "output_type": "stream",
     "text": [
      "/tmp/ipykernel_129/1060652836.py:48: RuntimeWarning: divide by zero encountered in log\n",
      "  logsr = np.log(s/r)\n"
     ]
    },
    {
     "data": {
      "text/plain": [
       "0.01281918538945811"
      ]
     },
     "execution_count": 211,
     "metadata": {},
     "output_type": "execute_result"
    }
   ],
   "source": [
    "sample1 = sample_dataframe(apogee_subset, 10000)\n",
    "sample2 = sample_dataframe(apogee_subset, 10000)\n",
    "KLdivergence(sample1[['FE_H', 'O_FE']], sample2[['0_H', 'O_FE']])"
   ]
  },
  {
   "cell_type": "code",
   "execution_count": null,
   "id": "0eda3c5d-f555-43e7-a609-75761a7a5660",
   "metadata": {},
   "outputs": [],
   "source": []
  }
 ],
 "metadata": {
  "kernelspec": {
   "display_name": "Python 3 (ipykernel)",
   "language": "python",
   "name": "python3"
  },
  "language_info": {
   "codemirror_mode": {
    "name": "ipython",
    "version": 3
   },
   "file_extension": ".py",
   "mimetype": "text/x-python",
   "name": "python",
   "nbconvert_exporter": "python",
   "pygments_lexer": "ipython3",
   "version": "3.9.12"
  }
 },
 "nbformat": 4,
 "nbformat_minor": 5
}
