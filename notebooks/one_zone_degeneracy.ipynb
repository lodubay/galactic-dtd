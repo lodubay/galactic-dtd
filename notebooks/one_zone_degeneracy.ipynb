{
 "cells": [
  {
   "cell_type": "markdown",
   "id": "cad86bb7-1cf9-45eb-b8c5-1f44871ec0a0",
   "metadata": {},
   "source": [
    "# One-Zone Model Degeneracies\n",
    "\n",
    "Exploring degeneracies between the star formation history (SFH) and Type Ia supernova delay time distribution (DTD) in abundance tracks and metallicity distribution functions (MDFs)."
   ]
  },
  {
   "cell_type": "markdown",
   "id": "2ddad8c6-c0b6-4ae0-b34f-7cbd5c1638e1",
   "metadata": {},
   "source": [
    "## Preamble"
   ]
  },
  {
   "cell_type": "code",
   "execution_count": null,
   "id": "50064e62-1187-40a4-a434-6de3127534f4",
   "metadata": {},
   "outputs": [],
   "source": []
  },
  {
   "cell_type": "markdown",
   "id": "57a4c7e1-d707-44e9-bedc-83edd88288a0",
   "metadata": {},
   "source": [
    "## Defining Star Formation Histories"
   ]
  },
  {
   "cell_type": "code",
   "execution_count": null,
   "id": "5a4eb2ec-da25-4d5d-bb23-beeeac3633a3",
   "metadata": {},
   "outputs": [],
   "source": []
  },
  {
   "cell_type": "markdown",
   "id": "7a897981-e0dc-46c3-b1f5-874c917aa8b3",
   "metadata": {},
   "source": [
    "## Defining Delay Time Distributions"
   ]
  },
  {
   "cell_type": "code",
   "execution_count": null,
   "id": "dfe069a6-6e22-4a38-9249-59e3816e637e",
   "metadata": {},
   "outputs": [],
   "source": []
  },
  {
   "cell_type": "markdown",
   "id": "a4c76de7-ea81-4d96-a985-6c5ec5f53b30",
   "metadata": {},
   "source": [
    "## Results"
   ]
  },
  {
   "cell_type": "code",
   "execution_count": null,
   "id": "17314295-05a6-4714-b9a4-57eb95e3c26c",
   "metadata": {},
   "outputs": [],
   "source": []
  },
  {
   "cell_type": "markdown",
   "id": "d031d26e-b89b-4ae8-ac4d-0fb0ca11b2a5",
   "metadata": {},
   "source": [
    "## Discussion"
   ]
  },
  {
   "cell_type": "code",
   "execution_count": null,
   "id": "42ac7b4a-dd5d-409e-8a49-b26ee06bf2a5",
   "metadata": {},
   "outputs": [],
   "source": []
  }
 ],
 "metadata": {
  "kernelspec": {
   "display_name": "Python 3 (ipykernel)",
   "language": "python",
   "name": "python3"
  },
  "language_info": {
   "codemirror_mode": {
    "name": "ipython",
    "version": 3
   },
   "file_extension": ".py",
   "mimetype": "text/x-python",
   "name": "python",
   "nbconvert_exporter": "python",
   "pygments_lexer": "ipython3",
   "version": "3.9.7"
  }
 },
 "nbformat": 4,
 "nbformat_minor": 5
}
