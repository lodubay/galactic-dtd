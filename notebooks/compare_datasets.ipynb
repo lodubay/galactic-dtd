{
 "cells": [
  {
   "cell_type": "code",
   "execution_count": 1,
   "id": "9735fcf2-18c0-467b-b208-6eba0c5bad8e",
   "metadata": {},
   "outputs": [],
   "source": [
    "from pathlib import Path\n",
    "import numpy as np\n",
    "import pandas as pd\n",
    "import matplotlib.pyplot as plt\n",
    "from matplotlib import patches, colors, cm\n",
    "from scipy.stats import norm\n",
    "from scipy.optimize import curve_fit\n",
    "\n",
    "# File names\n",
    "datafile = 'dr17_cut_data.csv'\n",
    "\n",
    "# Plot settings\n",
    "plt.rc(('xtick', 'ytick'), direction='in')\n",
    "plt.rc('xtick', top=True)\n",
    "plt.rc('ytick', right=True)\n",
    "plt.rc('font', family='STIXgeneral')\n",
    "plt.rc('figure', dpi=140)\n",
    "plt.rc('figure', figsize=(4, 4))\n",
    "\n",
    "# Utility functions\n",
    "def rms(array, axis=None):\n",
    "    \"\"\"\n",
    "    Return the root-mean-square of a given array.\n",
    "\n",
    "    Parameters\n",
    "    ----------\n",
    "    array : numpy.ndarray\n",
    "    axis : int or NoneType\n",
    "        Axis along which to calculate rms (passed to numpy.mean()).\n",
    "\n",
    "    \"\"\"\n",
    "    return np.sqrt(np.mean(array**2, axis=axis))\n",
    "\n",
    "def quad_add(arr1, arr2):\n",
    "    \"\"\"\n",
    "    Add input arrays in quadrature.\n",
    "    \n",
    "    Parameters\n",
    "    ----------\n",
    "    arr1 : numpy.ndarray\n",
    "    arr2 : numpy.ndarray\n",
    "\n",
    "    \"\"\"\n",
    "    return np.sqrt(arr1**2 + arr2**2)"
   ]
  },
  {
   "cell_type": "code",
   "execution_count": null,
   "id": "a5296d37-c836-4c94-80a3-c66ad53cd8c5",
   "metadata": {},
   "outputs": [],
   "source": []
  }
 ],
 "metadata": {
  "kernelspec": {
   "display_name": "Python 3",
   "language": "python",
   "name": "python3"
  },
  "language_info": {
   "codemirror_mode": {
    "name": "ipython",
    "version": 3
   },
   "file_extension": ".py",
   "mimetype": "text/x-python",
   "name": "python",
   "nbconvert_exporter": "python",
   "pygments_lexer": "ipython3",
   "version": "3.8.8"
  }
 },
 "nbformat": 4,
 "nbformat_minor": 5
}
