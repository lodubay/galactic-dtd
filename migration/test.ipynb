{
 "cells": [
  {
   "cell_type": "code",
   "execution_count": 20,
   "id": "a4f9021b-f143-499d-8274-8bf741b66510",
   "metadata": {},
   "outputs": [],
   "source": [
    "from pathlib import Path\n",
    "import pickle\n",
    "import matplotlib.pyplot as plt\n",
    "import numpy as np\n",
    "from src._globals import END_TIME"
   ]
  },
  {
   "cell_type": "code",
   "execution_count": 25,
   "id": "c2f31de2-0b26-4f34-981a-84f1f51a6a16",
   "metadata": {},
   "outputs": [
    {
     "name": "stdout",
     "output_type": "stream",
     "text": [
      "<src.simulations.disks.delay_time_distribution object at 0x7fa420acf6a0>\n",
      "0.04\n"
     ]
    }
   ],
   "source": [
    "output = Path('outputs/dtdtest.vice')\n",
    "zone = 0\n",
    "attributes_path = output / ('zone%s.vice' % zone) / 'attributes'\n",
    "\n",
    "with open(attributes_path / 'RIa.obj', 'rb') as f:\n",
    "    RIa = pickle.load(f)\n",
    "print(RIa)\n",
    "\n",
    "with open(attributes_path / 'delay.obj', 'rb') as f:\n",
    "    delay = pickle.load(f)\n",
    "print(delay)"
   ]
  },
  {
   "cell_type": "code",
   "execution_count": 26,
   "id": "2f7922c4-f3b0-4285-8398-f00bac2a0161",
   "metadata": {},
   "outputs": [
    {
     "data": {
      "image/png": "[encoded data removed]",
      "text/plain": [
       "<Figure size 432x288 with 1 Axes>"
      ]
     },
     "metadata": {
      "needs_background": "light"
     },
     "output_type": "display_data"
    }
   ],
   "source": [
    "dt = 0.005\n",
    "tarr = np.arange(delay, END_TIME+dt, dt)\n",
    "plt.plot(tarr, [RIa(t) for t in tarr])\n",
    "plt.xscale('log')\n",
    "plt.yscale('log')\n",
    "plt.show()"
   ]
  },
  {
   "cell_type": "code",
   "execution_count": null,
   "id": "58caa398-cf88-41de-a6b9-8774f3e69dfe",
   "metadata": {},
   "outputs": [],
   "source": []
  }
 ],
 "metadata": {
  "kernelspec": {
   "display_name": "Python 3 (ipykernel)",
   "language": "python",
   "name": "python3"
  },
  "language_info": {
   "codemirror_mode": {
    "name": "ipython",
    "version": 3
   },
   "file_extension": ".py",
   "mimetype": "text/x-python",
   "name": "python",
   "nbconvert_exporter": "python",
   "pygments_lexer": "ipython3",
   "version": "3.9.12"
  }
 },
 "nbformat": 4,
 "nbformat_minor": 5
}
