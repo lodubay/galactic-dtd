{
 "cells": [
  {
   "cell_type": "markdown",
   "id": "d9176346-2f0e-419a-8b39-3a7b62888031",
   "metadata": {},
   "source": [
    "# Distance errors in APOGEE DR17"
   ]
  },
  {
   "cell_type": "code",
   "execution_count": 5,
   "id": "c67f0cd6-c3e5-4808-b773-f93ce0aaaacf",
   "metadata": {},
   "outputs": [],
   "source": [
    "import matplotlib.pyplot as plt\n",
    "from apogee_tools import import_apogee\n",
    "import paths\n",
    "from utils import quad_add"
   ]
  },
  {
   "cell_type": "code",
   "execution_count": 7,
   "id": "64847211-1dac-4af6-84ea-15aeb12153e2",
   "metadata": {},
   "outputs": [],
   "source": [
    "apogee_data = import_apogee()\n",
    "apogee_data['GAIAEDR3_R_PHOTOGEO_ERR'] = quad_add(\n",
    "    apogee_data['GAIAEDR3_R_HI_PHOTOGEO'] - apogee_data['GAIAEDR3_R_MED_PHOTOGEO'], \n",
    "    apogee_data['GAIAEDR3_R_MED_PHOTOGEO'] - apogee_data['GAIAEDR3_R_LO_PHOTOGEO'])"
   ]
  },
  {
   "cell_type": "code",
   "execution_count": null,
   "id": "b12fa549-7d72-4e29-82a2-3f461d652a53",
   "metadata": {},
   "outputs": [],
   "source": [
    "fig, axs = plt.subplots(1, 2, figsize=(9, 4), \n",
    "                        sharex=True, sharey=True)\n",
    "plt.style.use(paths.styles / 'presentation.mplstyle')\n",
    "xlim = (0, 24)\n",
    "ylim = (-12, 12)\n",
    "extent = [xlim[0], xlim[1], ylim[0], ylim[1]]\n",
    "# MWM\n",
    "norm = LogNorm()\n",
    "hb0 = axs[0].hexbin(apogee_data['GALR'], apogee_data['GALZ'], \n",
    "                    C=apogee_data['GAIAEDR3_R_PHOTOGEO_ERR'], reduce_C_function=np.median,\n",
    "                    gridsize=50, cmap='inferno', norm=norm, \n",
    "                    extent=extent, linewidths=0.2)\n",
    "axs[0].set_title('Median distance error')\n",
    "axs[0].set_aspect('equal')\n",
    "axs[0].xaxis.set_minor_locator(MultipleLocator(2))\n",
    "axs[0].yaxis.set_major_locator(MultipleLocator(10))\n",
    "axs[0].yaxis.set_minor_locator(MultipleLocator(2))\n",
    "# APOGEE\n",
    "hb1 = axs[1].hexbin(apogee_data['GALR'], apogee_data['GALZ'], \n",
    "                    gridsize=50, cmap='inferno', norm=norm, \n",
    "                    extent=extent, linewidths=0.2)\n",
    "axs[1].set_aspect('equal')\n",
    "axs[1].set_title('APOGEE DR17')\n",
    "plt.subplots_adjust(right=0.88, wspace=0.05)\n",
    "cax = plt.axes([0.9, 0.11, 0.02, 0.77])\n",
    "fig.colorbar(hb1, cax, label='Number of stars')\n",
    "# Common axis labels\n",
    "fig.add_subplot(111, frameon=False)\n",
    "plt.tick_params(labelcolor='none', which='both', top=False, bottom=False, left=False, right=False)\n",
    "plt.xlabel('Galactocentric radius [kpc]')\n",
    "plt.ylabel('Midplane distance [kpc]')\n",
    "plt.show()"
   ]
  }
 ],
 "metadata": {
  "kernelspec": {
   "display_name": "Python 3 (ipykernel)",
   "language": "python",
   "name": "python3"
  },
  "language_info": {
   "codemirror_mode": {
    "name": "ipython",
    "version": 3
   },
   "file_extension": ".py",
   "mimetype": "text/x-python",
   "name": "python",
   "nbconvert_exporter": "python",
   "pygments_lexer": "ipython3",
   "version": "3.10.13"
  }
 },
 "nbformat": 4,
 "nbformat_minor": 5
}
